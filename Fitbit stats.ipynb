{
 "cells": [
  {
   "cell_type": "code",
   "execution_count": 1,
   "id": "29fe74f1",
   "metadata": {},
   "outputs": [],
   "source": [
    "import os\n",
    "import zipfile\n",
    "import json\n",
    "import pandas as pd\n",
    "import csv"
   ]
  },
  {
   "cell_type": "code",
   "execution_count": 2,
   "id": "40cbcd24",
   "metadata": {},
   "outputs": [],
   "source": [
    "zip_directory = 'files'  # Directory containing zip files\n",
    "zip_file_name_start = 'takeout'\n",
    "inner_file_name_start = 'Takeout/Fitbit/Global Export Data/heart_rate'\n",
    "output_csv_file = 'files/hr_output.csv'  # Output CSV file path"
   ]
  },
  {
   "cell_type": "code",
   "execution_count": 8,
   "id": "149b7952",
   "metadata": {},
   "outputs": [
    {
     "name": "stdout",
     "output_type": "stream",
     "text": [
      "             dateTime  bpm        date  hour month_start week_start\n",
      "0 2024-02-27 18:33:40   70  2024-02-27    18  2024-02-01 2024-02-26\n",
      "1 2024-02-27 18:33:50   69  2024-02-27    18  2024-02-01 2024-02-26\n",
      "2 2024-02-27 18:33:55   69  2024-02-27    18  2024-02-01 2024-02-26\n",
      "3 2024-02-27 18:34:00   72  2024-02-27    18  2024-02-01 2024-02-26\n",
      "4 2024-02-27 18:34:05   64  2024-02-27    18  2024-02-01 2024-02-26\n"
     ]
    }
   ],
   "source": [
    "# load and compile data\n",
    "try:        \n",
    "    # Find zip files starting with 'xyz'\n",
    "    matching_zips = [file for file in os.listdir(zip_directory) \\\n",
    "                     if file.startswith(zip_file_name_start) and file.endswith('.zip')]\n",
    "\n",
    "    data = []  # List to store extracted data\n",
    "\n",
    "    for zip_file_name in matching_zips:\n",
    "        zip_file_path = os.path.join(zip_directory, zip_file_name)\n",
    "        with zipfile.ZipFile(zip_file_path, 'r') as zip_ref:\n",
    "            file_list = zip_ref.namelist()  # Get list of files in the zip\n",
    "            for file_name in file_list:\n",
    "                if file_name.startswith(inner_file_name_start):  # Check if the file name starts with 'abc'\n",
    "                    with zip_ref.open(file_name) as file:\n",
    "                        # Parse JSON content\n",
    "                        json_data = json.load(file)\n",
    "                        for entry in json_data:\n",
    "                            dateTime = entry.get('dateTime', '')\n",
    "                            bpm = entry.get('value', {}).get('bpm', '')\n",
    "                            data.append({'dateTime': dateTime, 'bpm': bpm})\n",
    "    \n",
    "    # Create DataFrame from the list of dictionaries\n",
    "    df = pd.DataFrame(data)\n",
    "    # convert 'dateTime' column to datetime type\n",
    "    df['dateTime'] = pd.to_datetime(df['dateTime'])\n",
    "    # Extract date parts from the 'dateTime' column\n",
    "    df['date'] = df['dateTime'].dt.date\n",
    "    df['hour'] = df['dateTime'].dt.hour\n",
    "    df['month_start'] = df['dateTime'].dt.to_period('M').dt.to_timestamp()\n",
    "    df['week_start'] = df['dateTime'].dt.to_period('W').dt.to_timestamp()\n",
    "    \n",
    "    # Print the first five rows of the DataFrame\n",
    "    print(df.head())\n",
    "    \n",
    "except FileNotFoundError:\n",
    "    print(\"The specified directory does not exist.\")\n",
    "except zipfile.BadZipFile:\n",
    "    print(\"A zip file is not valid.\")\n",
    "except Exception as e:\n",
    "    print(f\"An error occurred: {e}\")"
   ]
  },
  {
   "cell_type": "code",
   "execution_count": null,
   "id": "a805c562",
   "metadata": {},
   "outputs": [],
   "source": [
    "TBD\n",
    "\n",
    "# Group by date and hour, and calculate the required statistics\n",
    "result_df = df.groupby(['date', 'hour'])['bpm'].agg(['max', 'min', lambda x: x.quantile(0.25), 'median', lambda x: x.quantile(0.75)]).reset_index()\n",
    "\n",
    "# Rename the columns for better clarity\n",
    "result_df.columns = ['date', 'hour', 'max_bpm', 'min_bpm', '25th_percentile_bpm', 'median_bpm', '75th_percentile_bpm']\n"
   ]
  }
 ],
 "metadata": {
  "kernelspec": {
   "display_name": "Python 3 (ipykernel)",
   "language": "python",
   "name": "python3"
  },
  "language_info": {
   "codemirror_mode": {
    "name": "ipython",
    "version": 3
   },
   "file_extension": ".py",
   "mimetype": "text/x-python",
   "name": "python",
   "nbconvert_exporter": "python",
   "pygments_lexer": "ipython3",
   "version": "3.11.4"
  }
 },
 "nbformat": 4,
 "nbformat_minor": 5
}
